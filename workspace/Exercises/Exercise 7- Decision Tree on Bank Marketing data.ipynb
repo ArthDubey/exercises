{
 "cells": [
  {
   "cell_type": "markdown",
   "metadata": {},
   "source": [
    "### Decision Tree on Bank Marketing data"
   ]
  },
  {
   "cell_type": "markdown",
   "metadata": {},
   "source": [
    "For the  Bank Marketing dataset available in <strong>Exercises/data </strong>folder, induct a decision tree to predict whether a client will subscribe to a term deposit or not. \n",
    "<li>Split the data into train and test with a ratio of 80:20</li>\n",
    "<li>Do not use 'duration' as a predictor</li>\n",
    "<b>bank_marketing.csv</b> file contains the data and it's description is available in <b>bank_marketing.text</b> file."
   ]
  },
  {
   "cell_type": "code",
   "execution_count": null,
   "metadata": {},
   "outputs": [],
   "source": [
    "# Write your code here"
   ]
  }
 ],
 "metadata": {
  "kernelspec": {
   "display_name": "Python 3",
   "language": "python",
   "name": "python3"
  },
  "language_info": {
   "codemirror_mode": {
    "name": "ipython",
    "version": 3
   },
   "file_extension": ".py",
   "mimetype": "text/x-python",
   "name": "python",
   "nbconvert_exporter": "python",
   "pygments_lexer": "ipython3",
   "version": "3.6.8"
  }
 },
 "nbformat": 4,
 "nbformat_minor": 2
}
