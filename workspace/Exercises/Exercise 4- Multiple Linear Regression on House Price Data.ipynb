{
 "cells": [
  {
   "cell_type": "markdown",
   "metadata": {},
   "source": [
    "### Multiple Linear Regression on House Price Data"
   ]
  },
  {
   "cell_type": "markdown",
   "metadata": {},
   "source": [
    "Continue to work on the House Price prediction problem from <strong>Demo 3- Regression on House Price Data</strong>, and perform the following activities:\n",
    "\t\t\t<ol>\n",
    "\t\t\t\t<li>Add lat and long as features to the list of features chosen</li>\n",
    "\t\t\t\t<li>Remove rows which contain outliers. Look for outliers in the price, bedrooms, bathrooms, sqft_living columns only. This is to remove houses that are a lot smaller/bigger than other houses in the data set.</li>\n",
    "\t\t\t\t<li>Consider the lat and long features added in (a) as categorical features as well. Encode all the categorical features using different approaches such as LabelEncoder, OneHotEncoder, etc.</li>\n",
    "\t\t\t\t<li>Split the data into train and test set in the ratio of 75:25.</li>\n",
    "\t\t\t\t<li>Build a model on the train data and evaluate its performance using adjusted R-squared and RMSE.</li>\n",
    "\t\t\t\t<li>Validate the model's performance on the test data using RMSE.</li>\t\t\t\n",
    "\t\t\t</ol>\n",
    "<b>Hint: </b>kc_house_data.csv file is present in <b>Exercises/data</b> folder."
   ]
  },
  {
   "cell_type": "code",
   "execution_count": null,
   "metadata": {},
   "outputs": [],
   "source": [
    "# Copy the relevant code from Demo 3 here"
   ]
  },
  {
   "cell_type": "code",
   "execution_count": null,
   "metadata": {},
   "outputs": [],
   "source": [
    "# Write your code here"
   ]
  }
 ],
 "metadata": {
  "kernelspec": {
   "display_name": "Python 3",
   "language": "python",
   "name": "python3"
  },
  "language_info": {
   "codemirror_mode": {
    "name": "ipython",
    "version": 3
   },
   "file_extension": ".py",
   "mimetype": "text/x-python",
   "name": "python",
   "nbconvert_exporter": "python",
   "pygments_lexer": "ipython3",
   "version": "3.6.8"
  }
 },
 "nbformat": 4,
 "nbformat_minor": 2
}
