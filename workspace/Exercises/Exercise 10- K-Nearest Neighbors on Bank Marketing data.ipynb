{
 "cells": [
  {
   "cell_type": "markdown",
   "metadata": {},
   "source": [
    "### K-Nearest Neighbors on Bank Marketing data"
   ]
  },
  {
   "cell_type": "markdown",
   "metadata": {},
   "source": [
    "Split the bank marketing dataset available in <strong>Exercises/data </strong>folder into train and test set in the ratio of 60:40 and build a kNN classification model to determine whether a client will subscribe to a term deposit or not based on other attributes.\n",
    "<br/>Note that you may need to convert categorical features into numeric using encoding techniques discussed earlier.\n",
    "<br/>Also, if you are using categorical features it is recommended to use a different distance metric.\n",
    "<br/>Plot the classification accuracies on train and test for different values of k\n",
    "<br/><b>bank_marketing.csv</b> file contains the data and it's description is available in <b>bank_marketing.text</b> file."
   ]
  },
  {
   "cell_type": "code",
   "execution_count": null,
   "metadata": {},
   "outputs": [],
   "source": [
    "# Write your code here"
   ]
  }
 ],
 "metadata": {
  "kernelspec": {
   "display_name": "Python 3",
   "language": "python",
   "name": "python3"
  },
  "language_info": {
   "codemirror_mode": {
    "name": "ipython",
    "version": 3
   },
   "file_extension": ".py",
   "mimetype": "text/x-python",
   "name": "python",
   "nbconvert_exporter": "python",
   "pygments_lexer": "ipython3",
   "version": "3.6.8"
  }
 },
 "nbformat": 4,
 "nbformat_minor": 2
}
