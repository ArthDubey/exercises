{
 "cells": [
  {
   "cell_type": "markdown",
   "metadata": {},
   "source": [
    "### Logistic Regression on Bank Marketing data"
   ]
  },
  {
   "cell_type": "markdown",
   "metadata": {},
   "source": [
    "For the Bank Marketing data set available in <strong>Exercises/data </strong>folder, build a model using logistic regression model to predict the attribute “y” (i.e. the client will subscribe a term deposit or not) based on duration, age, and campaign as predictors.\n",
    "<br/>Use 70% of the data as training data set and 30% of data as testing data set. \n",
    "<br/>Determine the classification accuracy rate of the model on both train and test set.\n",
    "<br/><b>bank_marketing.csv</b> file contains the data and it's description is available in <b>bank_marketing.text</b> file."
   ]
  },
  {
   "cell_type": "code",
   "execution_count": null,
   "metadata": {},
   "outputs": [],
   "source": [
    "# Write your code here"
   ]
  }
 ],
 "metadata": {
  "kernelspec": {
   "display_name": "Python 3",
   "language": "python",
   "name": "python3"
  },
  "language_info": {
   "codemirror_mode": {
    "name": "ipython",
    "version": 3
   },
   "file_extension": ".py",
   "mimetype": "text/x-python",
   "name": "python",
   "nbconvert_exporter": "python",
   "pygments_lexer": "ipython3",
   "version": "3.6.8"
  }
 },
 "nbformat": 4,
 "nbformat_minor": 2
}
