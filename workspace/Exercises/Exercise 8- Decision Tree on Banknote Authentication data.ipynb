{
 "cells": [
  {
   "cell_type": "markdown",
   "metadata": {},
   "source": [
    "### Decision Tree on Banknote Authentication data"
   ]
  },
  {
   "cell_type": "markdown",
   "metadata": {},
   "source": [
    "For the Banknote Authentication(<b>banknote_authentication.txt</b>) dataset available in <strong>Exercises/data </strong>folder, induct a decision tree to predict whether a banknote will be classified as class 1(i.e.genuine ) or class 0(i.e. not genuine).\n",
    "<br/>Compare the performance of the decision tree against a logistic regression model in terms of f1-score."
   ]
  },
  {
   "cell_type": "code",
   "execution_count": null,
   "metadata": {},
   "outputs": [],
   "source": [
    "# Write your code here"
   ]
  }
 ],
 "metadata": {
  "kernelspec": {
   "display_name": "Python 3",
   "language": "python",
   "name": "python3"
  },
  "language_info": {
   "codemirror_mode": {
    "name": "ipython",
    "version": 3
   },
   "file_extension": ".py",
   "mimetype": "text/x-python",
   "name": "python",
   "nbconvert_exporter": "python",
   "pygments_lexer": "ipython3",
   "version": "3.6.8"
  }
 },
 "nbformat": 4,
 "nbformat_minor": 2
}
