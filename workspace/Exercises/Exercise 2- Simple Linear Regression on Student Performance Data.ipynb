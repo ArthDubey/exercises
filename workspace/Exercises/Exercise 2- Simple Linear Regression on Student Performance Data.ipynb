{
 "cells": [
  {
   "cell_type": "markdown",
   "metadata": {},
   "source": [
    "### Simple Linear Regression on Student Performance Data"
   ]
  },
  {
   "cell_type": "markdown",
   "metadata": {},
   "source": [
    "Use the Student Performance data set available in <strong>Exercises/data </strong>folder.\n",
    "\t\t\t<li>Find out whether there exists any association between the attribute \"study time\" and their \"grade\" in the subjects Math(<b>student-mat.csv</b>) or Portuguese(<b>student-por.csv</b>).</li>\n",
    "\t\t\t<li>Check whether the attribute “Absence” affects the students performance using scatter plot.</li> \n",
    "Data Description is given in <b>student.txt</b> file."
   ]
  },
  {
   "cell_type": "code",
   "execution_count": null,
   "metadata": {},
   "outputs": [],
   "source": [
    "# Write your code here"
   ]
  }
 ],
 "metadata": {
  "kernelspec": {
   "display_name": "Python 3",
   "language": "python",
   "name": "python3"
  },
  "language_info": {
   "codemirror_mode": {
    "name": "ipython",
    "version": 3
   },
   "file_extension": ".py",
   "mimetype": "text/x-python",
   "name": "python",
   "nbconvert_exporter": "python",
   "pygments_lexer": "ipython3",
   "version": "3.6.8"
  }
 },
 "nbformat": 4,
 "nbformat_minor": 2
}
