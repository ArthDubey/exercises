{
 "cells": [
  {
   "cell_type": "markdown",
   "metadata": {},
   "source": [
    "### K-Nearest Neighbors on Banknote Authentication data"
   ]
  },
  {
   "cell_type": "markdown",
   "metadata": {},
   "source": [
    "Using kNN, build a model to predict whether the following tuple will be classified as 0 or 1 for the attribute “class” in the Banknote authentication(<b>banknote_authentication.txt</b>) dataset available in <strong>Exercises/data </strong>folder, \n",
    "\t\t\t<li>Variance of Wavelet Transformed image: -2.8829</li>\n",
    "\t\t\t<li>Skewness of Wavelet Transformed image: -0.60324</li>\n",
    "\t\t\t<li>Curtosis of Wavelet Transformed image: 2.9085</li>\n",
    "            <li>Entropy of image: 1.4657</li>\n",
    "            Choose k as the value that has good accuracy on both train and test sets among k values - 3, 5, 7, 9 and 11.\n",
    "            "
   ]
  },
  {
   "cell_type": "code",
   "execution_count": null,
   "metadata": {},
   "outputs": [],
   "source": [
    "# Write your code here"
   ]
  }
 ],
 "metadata": {
  "kernelspec": {
   "display_name": "Python 3",
   "language": "python",
   "name": "python3"
  },
  "language_info": {
   "codemirror_mode": {
    "name": "ipython",
    "version": 3
   },
   "file_extension": ".py",
   "mimetype": "text/x-python",
   "name": "python",
   "nbconvert_exporter": "python",
   "pygments_lexer": "ipython3",
   "version": "3.6.8"
  }
 },
 "nbformat": 4,
 "nbformat_minor": 2
}
