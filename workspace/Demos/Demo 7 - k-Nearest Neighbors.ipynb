{
 "cells": [
  {
   "cell_type": "code",
   "execution_count": 27,
   "metadata": {},
   "outputs": [],
   "source": [
    "import numpy as np\n",
    "import pandas as pd\n",
    "import matplotlib.pyplot as plt\n",
    "%matplotlib inline\n",
    "import warnings\n",
    "warnings.filterwarnings(\"ignore\")"
   ]
  },
  {
   "cell_type": "code",
   "execution_count": 2,
   "metadata": {},
   "outputs": [],
   "source": [
    "default = pd.read_csv(\"data/default.csv\")"
   ]
  },
  {
   "cell_type": "code",
   "execution_count": 3,
   "metadata": {},
   "outputs": [
    {
     "name": "stdout",
     "output_type": "stream",
     "text": [
      "<class 'pandas.core.frame.DataFrame'>\n",
      "RangeIndex: 10000 entries, 0 to 9999\n",
      "Data columns (total 4 columns):\n",
      "default    10000 non-null object\n",
      "student    10000 non-null object\n",
      "balance    10000 non-null float64\n",
      "income     10000 non-null float64\n",
      "dtypes: float64(2), object(2)\n",
      "memory usage: 312.6+ KB\n"
     ]
    }
   ],
   "source": [
    "default.info()"
   ]
  },
  {
   "cell_type": "markdown",
   "metadata": {},
   "source": [
    "#### Loading a sample subset for illustration"
   ]
  },
  {
   "cell_type": "code",
   "execution_count": 4,
   "metadata": {},
   "outputs": [],
   "source": [
    "default_subset = pd.read_csv(\"datasets/default_subset.csv\")"
   ]
  },
  {
   "cell_type": "code",
   "execution_count": 5,
   "metadata": {},
   "outputs": [
    {
     "data": {
      "text/html": [
       "<div>\n",
       "<style scoped>\n",
       "    .dataframe tbody tr th:only-of-type {\n",
       "        vertical-align: middle;\n",
       "    }\n",
       "\n",
       "    .dataframe tbody tr th {\n",
       "        vertical-align: top;\n",
       "    }\n",
       "\n",
       "    .dataframe thead th {\n",
       "        text-align: right;\n",
       "    }\n",
       "</style>\n",
       "<table border=\"1\" class=\"dataframe\">\n",
       "  <thead>\n",
       "    <tr style=\"text-align: right;\">\n",
       "      <th></th>\n",
       "      <th>default</th>\n",
       "      <th>student</th>\n",
       "      <th>balance</th>\n",
       "      <th>income</th>\n",
       "    </tr>\n",
       "  </thead>\n",
       "  <tbody>\n",
       "    <tr>\n",
       "      <th>0</th>\n",
       "      <td>No</td>\n",
       "      <td>Yes</td>\n",
       "      <td>817.1804</td>\n",
       "      <td>12106.14</td>\n",
       "    </tr>\n",
       "    <tr>\n",
       "      <th>1</th>\n",
       "      <td>Yes</td>\n",
       "      <td>Yes</td>\n",
       "      <td>1486.9980</td>\n",
       "      <td>17854.40</td>\n",
       "    </tr>\n",
       "    <tr>\n",
       "      <th>2</th>\n",
       "      <td>Yes</td>\n",
       "      <td>Yes</td>\n",
       "      <td>1102.4350</td>\n",
       "      <td>17391.78</td>\n",
       "    </tr>\n",
       "    <tr>\n",
       "      <th>3</th>\n",
       "      <td>Yes</td>\n",
       "      <td>Yes</td>\n",
       "      <td>1233.4460</td>\n",
       "      <td>12586.48</td>\n",
       "    </tr>\n",
       "    <tr>\n",
       "      <th>4</th>\n",
       "      <td>Yes</td>\n",
       "      <td>Yes</td>\n",
       "      <td>1276.6850</td>\n",
       "      <td>19282.44</td>\n",
       "    </tr>\n",
       "    <tr>\n",
       "      <th>5</th>\n",
       "      <td>Yes</td>\n",
       "      <td>Yes</td>\n",
       "      <td>1289.2460</td>\n",
       "      <td>13624.55</td>\n",
       "    </tr>\n",
       "    <tr>\n",
       "      <th>6</th>\n",
       "      <td>No</td>\n",
       "      <td>Yes</td>\n",
       "      <td>673.8124</td>\n",
       "      <td>17672.29</td>\n",
       "    </tr>\n",
       "    <tr>\n",
       "      <th>7</th>\n",
       "      <td>No</td>\n",
       "      <td>No</td>\n",
       "      <td>870.4124</td>\n",
       "      <td>17685.45</td>\n",
       "    </tr>\n",
       "    <tr>\n",
       "      <th>8</th>\n",
       "      <td>No</td>\n",
       "      <td>Yes</td>\n",
       "      <td>903.1768</td>\n",
       "      <td>15810.57</td>\n",
       "    </tr>\n",
       "    <tr>\n",
       "      <th>9</th>\n",
       "      <td>No</td>\n",
       "      <td>Yes</td>\n",
       "      <td>879.6270</td>\n",
       "      <td>14898.31</td>\n",
       "    </tr>\n",
       "    <tr>\n",
       "      <th>10</th>\n",
       "      <td>unknown</td>\n",
       "      <td>Yes</td>\n",
       "      <td>1000.0000</td>\n",
       "      <td>16900.00</td>\n",
       "    </tr>\n",
       "  </tbody>\n",
       "</table>\n",
       "</div>"
      ],
      "text/plain": [
       "    default student    balance    income\n",
       "0        No     Yes   817.1804  12106.14\n",
       "1       Yes     Yes  1486.9980  17854.40\n",
       "2       Yes     Yes  1102.4350  17391.78\n",
       "3       Yes     Yes  1233.4460  12586.48\n",
       "4       Yes     Yes  1276.6850  19282.44\n",
       "5       Yes     Yes  1289.2460  13624.55\n",
       "6        No     Yes   673.8124  17672.29\n",
       "7        No      No   870.4124  17685.45\n",
       "8        No     Yes   903.1768  15810.57\n",
       "9        No     Yes   879.6270  14898.31\n",
       "10  unknown     Yes  1000.0000  16900.00"
      ]
     },
     "execution_count": 5,
     "metadata": {},
     "output_type": "execute_result"
    }
   ],
   "source": [
    "default_subset"
   ]
  },
  {
   "cell_type": "markdown",
   "metadata": {},
   "source": [
    "#### Visualizing the data"
   ]
  },
  {
   "cell_type": "code",
   "execution_count": 6,
   "metadata": {},
   "outputs": [],
   "source": [
    "import seaborn as sns"
   ]
  },
  {
   "cell_type": "code",
   "execution_count": 7,
   "metadata": {},
   "outputs": [
    {
     "data": {
      "text/plain": [
       "<seaborn.axisgrid.PairGrid at 0x2bb0d23c470>"
      ]
     },
     "execution_count": 7,
     "metadata": {},
     "output_type": "execute_result"
    },
    {
     "data": {
      "image/png": "[encoded data removed]",
      "text/plain": [
       "<Figure size 369.375x288 with 1 Axes>"
      ]
     },
     "metadata": {},
     "output_type": "display_data"
    }
   ],
   "source": [
    "sns.pairplot(default_subset,hue=\"default\",\n",
    "             x_vars=\"income\",y_vars=\"balance\",size=4)"
   ]
  },
  {
   "cell_type": "markdown",
   "metadata": {},
   "source": [
    "#### Finding the euclidean distance"
   ]
  },
  {
   "cell_type": "code",
   "execution_count": 8,
   "metadata": {},
   "outputs": [],
   "source": [
    "x1 = default_subset.loc[0,[\"balance\",\"income\"]]"
   ]
  },
  {
   "cell_type": "code",
   "execution_count": 9,
   "metadata": {},
   "outputs": [],
   "source": [
    "x2 = default_subset.loc[1,[\"balance\",\"income\"]]"
   ]
  },
  {
   "cell_type": "code",
   "execution_count": 10,
   "metadata": {},
   "outputs": [
    {
     "data": {
      "text/plain": [
       "5787.1537602581275"
      ]
     },
     "execution_count": 10,
     "metadata": {},
     "output_type": "execute_result"
    }
   ],
   "source": [
    "np.linalg.norm(x1-x2)"
   ]
  },
  {
   "cell_type": "code",
   "execution_count": 11,
   "metadata": {},
   "outputs": [],
   "source": [
    "t1 = np.array([26,1000])\n",
    "t2 = np.array([66,1000])\n",
    "t3 = np.array([36,10000])"
   ]
  },
  {
   "cell_type": "code",
   "execution_count": 12,
   "metadata": {},
   "outputs": [
    {
     "name": "stdout",
     "output_type": "stream",
     "text": [
      "Distance between t2 and t3 9000.049999861112 \n",
      "Distance between t1 and t3 9000.00555555384\n"
     ]
    }
   ],
   "source": [
    "dist_t2_t3 = np.linalg.norm(t2-t3)\n",
    "dist_t3_t1 = np.linalg.norm(t3-t1)\n",
    "print(\"Distance between t2 and t3\",dist_t2_t3,\n",
    "      \"\\nDistance between t1 and t3\",dist_t3_t1)"
   ]
  },
  {
   "cell_type": "markdown",
   "metadata": {},
   "source": [
    "#### Normalizing the data using MinMaxScaler"
   ]
  },
  {
   "cell_type": "code",
   "execution_count": 13,
   "metadata": {},
   "outputs": [
    {
     "data": {
      "text/html": [
       "<div>\n",
       "<style scoped>\n",
       "    .dataframe tbody tr th:only-of-type {\n",
       "        vertical-align: middle;\n",
       "    }\n",
       "\n",
       "    .dataframe tbody tr th {\n",
       "        vertical-align: top;\n",
       "    }\n",
       "\n",
       "    .dataframe thead th {\n",
       "        text-align: right;\n",
       "    }\n",
       "</style>\n",
       "<table border=\"1\" class=\"dataframe\">\n",
       "  <thead>\n",
       "    <tr style=\"text-align: right;\">\n",
       "      <th></th>\n",
       "      <th>default</th>\n",
       "      <th>student</th>\n",
       "      <th>balance</th>\n",
       "      <th>income</th>\n",
       "      <th>norm_balance</th>\n",
       "      <th>norm_income</th>\n",
       "    </tr>\n",
       "  </thead>\n",
       "  <tbody>\n",
       "    <tr>\n",
       "      <th>0</th>\n",
       "      <td>No</td>\n",
       "      <td>Yes</td>\n",
       "      <td>817.1804</td>\n",
       "      <td>12106.14</td>\n",
       "      <td>0.176304</td>\n",
       "      <td>0.000000</td>\n",
       "    </tr>\n",
       "    <tr>\n",
       "      <th>1</th>\n",
       "      <td>Yes</td>\n",
       "      <td>Yes</td>\n",
       "      <td>1486.9980</td>\n",
       "      <td>17854.40</td>\n",
       "      <td>1.000000</td>\n",
       "      <td>0.801006</td>\n",
       "    </tr>\n",
       "    <tr>\n",
       "      <th>2</th>\n",
       "      <td>Yes</td>\n",
       "      <td>Yes</td>\n",
       "      <td>1102.4350</td>\n",
       "      <td>17391.78</td>\n",
       "      <td>0.527091</td>\n",
       "      <td>0.736541</td>\n",
       "    </tr>\n",
       "    <tr>\n",
       "      <th>3</th>\n",
       "      <td>Yes</td>\n",
       "      <td>Yes</td>\n",
       "      <td>1233.4460</td>\n",
       "      <td>12586.48</td>\n",
       "      <td>0.688199</td>\n",
       "      <td>0.066934</td>\n",
       "    </tr>\n",
       "    <tr>\n",
       "      <th>4</th>\n",
       "      <td>Yes</td>\n",
       "      <td>Yes</td>\n",
       "      <td>1276.6850</td>\n",
       "      <td>19282.44</td>\n",
       "      <td>0.741371</td>\n",
       "      <td>1.000000</td>\n",
       "    </tr>\n",
       "    <tr>\n",
       "      <th>5</th>\n",
       "      <td>Yes</td>\n",
       "      <td>Yes</td>\n",
       "      <td>1289.2460</td>\n",
       "      <td>13624.55</td>\n",
       "      <td>0.756818</td>\n",
       "      <td>0.211587</td>\n",
       "    </tr>\n",
       "    <tr>\n",
       "      <th>6</th>\n",
       "      <td>No</td>\n",
       "      <td>Yes</td>\n",
       "      <td>673.8124</td>\n",
       "      <td>17672.29</td>\n",
       "      <td>0.000000</td>\n",
       "      <td>0.775630</td>\n",
       "    </tr>\n",
       "    <tr>\n",
       "      <th>7</th>\n",
       "      <td>No</td>\n",
       "      <td>No</td>\n",
       "      <td>870.4124</td>\n",
       "      <td>17685.45</td>\n",
       "      <td>0.241765</td>\n",
       "      <td>0.777463</td>\n",
       "    </tr>\n",
       "    <tr>\n",
       "      <th>8</th>\n",
       "      <td>No</td>\n",
       "      <td>Yes</td>\n",
       "      <td>903.1768</td>\n",
       "      <td>15810.57</td>\n",
       "      <td>0.282057</td>\n",
       "      <td>0.516203</td>\n",
       "    </tr>\n",
       "    <tr>\n",
       "      <th>9</th>\n",
       "      <td>No</td>\n",
       "      <td>Yes</td>\n",
       "      <td>879.6270</td>\n",
       "      <td>14898.31</td>\n",
       "      <td>0.253097</td>\n",
       "      <td>0.389082</td>\n",
       "    </tr>\n",
       "    <tr>\n",
       "      <th>10</th>\n",
       "      <td>unknown</td>\n",
       "      <td>Yes</td>\n",
       "      <td>1000.0000</td>\n",
       "      <td>16900.00</td>\n",
       "      <td>0.401123</td>\n",
       "      <td>0.668013</td>\n",
       "    </tr>\n",
       "  </tbody>\n",
       "</table>\n",
       "</div>"
      ],
      "text/plain": [
       "    default student    balance    income  norm_balance  norm_income\n",
       "0        No     Yes   817.1804  12106.14      0.176304     0.000000\n",
       "1       Yes     Yes  1486.9980  17854.40      1.000000     0.801006\n",
       "2       Yes     Yes  1102.4350  17391.78      0.527091     0.736541\n",
       "3       Yes     Yes  1233.4460  12586.48      0.688199     0.066934\n",
       "4       Yes     Yes  1276.6850  19282.44      0.741371     1.000000\n",
       "5       Yes     Yes  1289.2460  13624.55      0.756818     0.211587\n",
       "6        No     Yes   673.8124  17672.29      0.000000     0.775630\n",
       "7        No      No   870.4124  17685.45      0.241765     0.777463\n",
       "8        No     Yes   903.1768  15810.57      0.282057     0.516203\n",
       "9        No     Yes   879.6270  14898.31      0.253097     0.389082\n",
       "10  unknown     Yes  1000.0000  16900.00      0.401123     0.668013"
      ]
     },
     "execution_count": 13,
     "metadata": {},
     "output_type": "execute_result"
    }
   ],
   "source": [
    "from sklearn.preprocessing import MinMaxScaler\n",
    "scaler = MinMaxScaler()\n",
    "scaled_values = scaler.fit_transform(default_subset[[\"balance\",\"income\"]])\n",
    "default_subset[\"norm_balance\"] = scaled_values[:,0]\n",
    "default_subset[\"norm_income\"] = scaled_values[:,1]\n",
    "default_subset"
   ]
  },
  {
   "cell_type": "code",
   "execution_count": 14,
   "metadata": {},
   "outputs": [
    {
     "data": {
      "text/plain": [
       "1.1489497815843785"
      ]
     },
     "execution_count": 14,
     "metadata": {},
     "output_type": "execute_result"
    }
   ],
   "source": [
    "x1_n = default_subset.loc[0,[\"norm_balance\",\"norm_income\"]]\n",
    "x2_n = default_subset.loc[1,[\"norm_balance\",\"norm_income\"]]\n",
    "np.linalg.norm(x1_n-x2_n)"
   ]
  },
  {
   "cell_type": "markdown",
   "metadata": {},
   "source": [
    "#### Sorting data based on distance to X11"
   ]
  },
  {
   "cell_type": "code",
   "execution_count": 15,
   "metadata": {},
   "outputs": [],
   "source": [
    "x11 = default_subset.loc[10,[\"norm_balance\",\"norm_income\"]] \n",
    "dist_to_X11 = lambda x: np.linalg.norm(x-x11)"
   ]
  },
  {
   "cell_type": "code",
   "execution_count": 16,
   "metadata": {},
   "outputs": [],
   "source": [
    "default_subset[\"dist_toX11\"] = default_subset[[\"norm_balance\",\n",
    "                                               \"norm_income\"]].apply(dist_to_X11,axis=1)"
   ]
  },
  {
   "cell_type": "code",
   "execution_count": 17,
   "metadata": {},
   "outputs": [
    {
     "data": {
      "text/html": [
       "<div>\n",
       "<style scoped>\n",
       "    .dataframe tbody tr th:only-of-type {\n",
       "        vertical-align: middle;\n",
       "    }\n",
       "\n",
       "    .dataframe tbody tr th {\n",
       "        vertical-align: top;\n",
       "    }\n",
       "\n",
       "    .dataframe thead th {\n",
       "        text-align: right;\n",
       "    }\n",
       "</style>\n",
       "<table border=\"1\" class=\"dataframe\">\n",
       "  <thead>\n",
       "    <tr style=\"text-align: right;\">\n",
       "      <th></th>\n",
       "      <th>default</th>\n",
       "      <th>student</th>\n",
       "      <th>balance</th>\n",
       "      <th>income</th>\n",
       "      <th>norm_balance</th>\n",
       "      <th>norm_income</th>\n",
       "      <th>dist_toX11</th>\n",
       "    </tr>\n",
       "  </thead>\n",
       "  <tbody>\n",
       "    <tr>\n",
       "      <th>10</th>\n",
       "      <td>unknown</td>\n",
       "      <td>Yes</td>\n",
       "      <td>1000.0000</td>\n",
       "      <td>16900.00</td>\n",
       "      <td>0.401123</td>\n",
       "      <td>0.668013</td>\n",
       "      <td>0.000000</td>\n",
       "    </tr>\n",
       "    <tr>\n",
       "      <th>2</th>\n",
       "      <td>Yes</td>\n",
       "      <td>Yes</td>\n",
       "      <td>1102.4350</td>\n",
       "      <td>17391.78</td>\n",
       "      <td>0.527091</td>\n",
       "      <td>0.736541</td>\n",
       "      <td>0.143401</td>\n",
       "    </tr>\n",
       "    <tr>\n",
       "      <th>8</th>\n",
       "      <td>No</td>\n",
       "      <td>Yes</td>\n",
       "      <td>903.1768</td>\n",
       "      <td>15810.57</td>\n",
       "      <td>0.282057</td>\n",
       "      <td>0.516203</td>\n",
       "      <td>0.192932</td>\n",
       "    </tr>\n",
       "    <tr>\n",
       "      <th>7</th>\n",
       "      <td>No</td>\n",
       "      <td>No</td>\n",
       "      <td>870.4124</td>\n",
       "      <td>17685.45</td>\n",
       "      <td>0.241765</td>\n",
       "      <td>0.777463</td>\n",
       "      <td>0.193325</td>\n",
       "    </tr>\n",
       "    <tr>\n",
       "      <th>9</th>\n",
       "      <td>No</td>\n",
       "      <td>Yes</td>\n",
       "      <td>879.6270</td>\n",
       "      <td>14898.31</td>\n",
       "      <td>0.253097</td>\n",
       "      <td>0.389082</td>\n",
       "      <td>0.315775</td>\n",
       "    </tr>\n",
       "    <tr>\n",
       "      <th>6</th>\n",
       "      <td>No</td>\n",
       "      <td>Yes</td>\n",
       "      <td>673.8124</td>\n",
       "      <td>17672.29</td>\n",
       "      <td>0.000000</td>\n",
       "      <td>0.775630</td>\n",
       "      <td>0.415309</td>\n",
       "    </tr>\n",
       "    <tr>\n",
       "      <th>4</th>\n",
       "      <td>Yes</td>\n",
       "      <td>Yes</td>\n",
       "      <td>1276.6850</td>\n",
       "      <td>19282.44</td>\n",
       "      <td>0.741371</td>\n",
       "      <td>1.000000</td>\n",
       "      <td>0.475378</td>\n",
       "    </tr>\n",
       "    <tr>\n",
       "      <th>5</th>\n",
       "      <td>Yes</td>\n",
       "      <td>Yes</td>\n",
       "      <td>1289.2460</td>\n",
       "      <td>13624.55</td>\n",
       "      <td>0.756818</td>\n",
       "      <td>0.211587</td>\n",
       "      <td>0.578657</td>\n",
       "    </tr>\n",
       "    <tr>\n",
       "      <th>1</th>\n",
       "      <td>Yes</td>\n",
       "      <td>Yes</td>\n",
       "      <td>1486.9980</td>\n",
       "      <td>17854.40</td>\n",
       "      <td>1.000000</td>\n",
       "      <td>0.801006</td>\n",
       "      <td>0.613466</td>\n",
       "    </tr>\n",
       "    <tr>\n",
       "      <th>3</th>\n",
       "      <td>Yes</td>\n",
       "      <td>Yes</td>\n",
       "      <td>1233.4460</td>\n",
       "      <td>12586.48</td>\n",
       "      <td>0.688199</td>\n",
       "      <td>0.066934</td>\n",
       "      <td>0.666114</td>\n",
       "    </tr>\n",
       "    <tr>\n",
       "      <th>0</th>\n",
       "      <td>No</td>\n",
       "      <td>Yes</td>\n",
       "      <td>817.1804</td>\n",
       "      <td>12106.14</td>\n",
       "      <td>0.176304</td>\n",
       "      <td>0.000000</td>\n",
       "      <td>0.704830</td>\n",
       "    </tr>\n",
       "  </tbody>\n",
       "</table>\n",
       "</div>"
      ],
      "text/plain": [
       "    default student    balance    income  norm_balance  norm_income  \\\n",
       "10  unknown     Yes  1000.0000  16900.00      0.401123     0.668013   \n",
       "2       Yes     Yes  1102.4350  17391.78      0.527091     0.736541   \n",
       "8        No     Yes   903.1768  15810.57      0.282057     0.516203   \n",
       "7        No      No   870.4124  17685.45      0.241765     0.777463   \n",
       "9        No     Yes   879.6270  14898.31      0.253097     0.389082   \n",
       "6        No     Yes   673.8124  17672.29      0.000000     0.775630   \n",
       "4       Yes     Yes  1276.6850  19282.44      0.741371     1.000000   \n",
       "5       Yes     Yes  1289.2460  13624.55      0.756818     0.211587   \n",
       "1       Yes     Yes  1486.9980  17854.40      1.000000     0.801006   \n",
       "3       Yes     Yes  1233.4460  12586.48      0.688199     0.066934   \n",
       "0        No     Yes   817.1804  12106.14      0.176304     0.000000   \n",
       "\n",
       "    dist_toX11  \n",
       "10    0.000000  \n",
       "2     0.143401  \n",
       "8     0.192932  \n",
       "7     0.193325  \n",
       "9     0.315775  \n",
       "6     0.415309  \n",
       "4     0.475378  \n",
       "5     0.578657  \n",
       "1     0.613466  \n",
       "3     0.666114  \n",
       "0     0.704830  "
      ]
     },
     "execution_count": 17,
     "metadata": {},
     "output_type": "execute_result"
    }
   ],
   "source": [
    "default_subset.sort_values(\"dist_toX11\")"
   ]
  },
  {
   "cell_type": "markdown",
   "metadata": {},
   "source": [
    "## Full implementation of kNN on the default dataset"
   ]
  },
  {
   "cell_type": "markdown",
   "metadata": {},
   "source": [
    "#### Loading the data"
   ]
  },
  {
   "cell_type": "code",
   "execution_count": 2,
   "metadata": {},
   "outputs": [],
   "source": [
    "default = pd.read_csv(\"datasets/default.csv\")"
   ]
  },
  {
   "cell_type": "code",
   "execution_count": 3,
   "metadata": {},
   "outputs": [
    {
     "name": "stdout",
     "output_type": "stream",
     "text": [
      "<class 'pandas.core.frame.DataFrame'>\n",
      "RangeIndex: 10000 entries, 0 to 9999\n",
      "Data columns (total 4 columns):\n",
      "default    10000 non-null object\n",
      "student    10000 non-null object\n",
      "balance    10000 non-null float64\n",
      "income     10000 non-null float64\n",
      "dtypes: float64(2), object(2)\n",
      "memory usage: 312.6+ KB\n"
     ]
    }
   ],
   "source": [
    "default.info()"
   ]
  },
  {
   "cell_type": "markdown",
   "metadata": {},
   "source": [
    "#### Feature Engineering\n",
    "Here we shall normalize the balance and income columns in the data."
   ]
  },
  {
   "cell_type": "code",
   "execution_count": 18,
   "metadata": {},
   "outputs": [],
   "source": [
    "from sklearn.preprocessing import MinMaxScaler"
   ]
  },
  {
   "cell_type": "code",
   "execution_count": 19,
   "metadata": {},
   "outputs": [],
   "source": [
    "scaler = MinMaxScaler()\n",
    "features_to_scale = [\"balance\",\"income\"]\n",
    "scaled_values = scaler.fit_transform(default[features_to_scale])\n",
    "default[\"norm_balance\"] = scaled_values[:,0]\n",
    "default[\"norm_income\"] = scaled_values[:,1]"
   ]
  },
  {
   "cell_type": "code",
   "execution_count": 20,
   "metadata": {},
   "outputs": [
    {
     "data": {
      "text/html": [
       "<div>\n",
       "<style scoped>\n",
       "    .dataframe tbody tr th:only-of-type {\n",
       "        vertical-align: middle;\n",
       "    }\n",
       "\n",
       "    .dataframe tbody tr th {\n",
       "        vertical-align: top;\n",
       "    }\n",
       "\n",
       "    .dataframe thead th {\n",
       "        text-align: right;\n",
       "    }\n",
       "</style>\n",
       "<table border=\"1\" class=\"dataframe\">\n",
       "  <thead>\n",
       "    <tr style=\"text-align: right;\">\n",
       "      <th></th>\n",
       "      <th>default</th>\n",
       "      <th>student</th>\n",
       "      <th>balance</th>\n",
       "      <th>income</th>\n",
       "      <th>norm_balance</th>\n",
       "      <th>norm_income</th>\n",
       "    </tr>\n",
       "  </thead>\n",
       "  <tbody>\n",
       "    <tr>\n",
       "      <th>0</th>\n",
       "      <td>No</td>\n",
       "      <td>No</td>\n",
       "      <td>729.526495</td>\n",
       "      <td>44361.62507</td>\n",
       "      <td>0.274845</td>\n",
       "      <td>0.598905</td>\n",
       "    </tr>\n",
       "    <tr>\n",
       "      <th>1</th>\n",
       "      <td>No</td>\n",
       "      <td>Yes</td>\n",
       "      <td>817.180407</td>\n",
       "      <td>12106.13470</td>\n",
       "      <td>0.307868</td>\n",
       "      <td>0.155727</td>\n",
       "    </tr>\n",
       "    <tr>\n",
       "      <th>2</th>\n",
       "      <td>No</td>\n",
       "      <td>No</td>\n",
       "      <td>1073.549164</td>\n",
       "      <td>31767.13895</td>\n",
       "      <td>0.404453</td>\n",
       "      <td>0.425862</td>\n",
       "    </tr>\n",
       "    <tr>\n",
       "      <th>3</th>\n",
       "      <td>No</td>\n",
       "      <td>No</td>\n",
       "      <td>529.250605</td>\n",
       "      <td>35704.49394</td>\n",
       "      <td>0.199392</td>\n",
       "      <td>0.479959</td>\n",
       "    </tr>\n",
       "    <tr>\n",
       "      <th>4</th>\n",
       "      <td>No</td>\n",
       "      <td>No</td>\n",
       "      <td>785.655883</td>\n",
       "      <td>38463.49588</td>\n",
       "      <td>0.295991</td>\n",
       "      <td>0.517867</td>\n",
       "    </tr>\n",
       "  </tbody>\n",
       "</table>\n",
       "</div>"
      ],
      "text/plain": [
       "  default student      balance       income  norm_balance  norm_income\n",
       "0      No      No   729.526495  44361.62507      0.274845     0.598905\n",
       "1      No     Yes   817.180407  12106.13470      0.307868     0.155727\n",
       "2      No      No  1073.549164  31767.13895      0.404453     0.425862\n",
       "3      No      No   529.250605  35704.49394      0.199392     0.479959\n",
       "4      No      No   785.655883  38463.49588      0.295991     0.517867"
      ]
     },
     "execution_count": 20,
     "metadata": {},
     "output_type": "execute_result"
    }
   ],
   "source": [
    "default.head()"
   ]
  },
  {
   "cell_type": "markdown",
   "metadata": {},
   "source": [
    "#### Splitting the data into train and test set"
   ]
  },
  {
   "cell_type": "code",
   "execution_count": 23,
   "metadata": {},
   "outputs": [],
   "source": [
    "from sklearn.model_selection import train_test_split"
   ]
  },
  {
   "cell_type": "code",
   "execution_count": 30,
   "metadata": {},
   "outputs": [],
   "source": [
    "default_train,default_test = train_test_split(default,test_size=0.2,random_state=100)"
   ]
  },
  {
   "cell_type": "code",
   "execution_count": 31,
   "metadata": {},
   "outputs": [
    {
     "data": {
      "text/plain": [
       "((8000, 6), (2000, 6))"
      ]
     },
     "execution_count": 31,
     "metadata": {},
     "output_type": "execute_result"
    }
   ],
   "source": [
    "default_train.shape, default_test.shape"
   ]
  },
  {
   "cell_type": "markdown",
   "metadata": {},
   "source": [
    "#### Building a kNN model using sklearn"
   ]
  },
  {
   "cell_type": "code",
   "execution_count": 21,
   "metadata": {},
   "outputs": [],
   "source": [
    "from sklearn.neighbors import KNeighborsClassifier"
   ]
  },
  {
   "cell_type": "code",
   "execution_count": 22,
   "metadata": {},
   "outputs": [],
   "source": [
    "model = KNeighborsClassifier(n_neighbors=3,metric=\"euclidean\")"
   ]
  },
  {
   "cell_type": "code",
   "execution_count": 28,
   "metadata": {},
   "outputs": [
    {
     "data": {
      "text/plain": [
       "KNeighborsClassifier(algorithm='auto', leaf_size=30, metric='euclidean',\n",
       "           metric_params=None, n_jobs=1, n_neighbors=3, p=2,\n",
       "           weights='uniform')"
      ]
     },
     "execution_count": 28,
     "metadata": {},
     "output_type": "execute_result"
    }
   ],
   "source": [
    "features = [\"norm_balance\",\"norm_income\"]\n",
    "target = [\"default\"]\n",
    "model.fit(default_train[features],default_train[target])"
   ]
  },
  {
   "cell_type": "markdown",
   "metadata": {},
   "source": [
    "#### Evaluating the train and test accuracies"
   ]
  },
  {
   "cell_type": "code",
   "execution_count": 29,
   "metadata": {},
   "outputs": [
    {
     "name": "stdout",
     "output_type": "stream",
     "text": [
      "0.977375 0.967\n"
     ]
    }
   ],
   "source": [
    "train_accuracy = model.score(default_train[features],default_train[target])\n",
    "test_accuracy = model.score(default_test[features],default_test[target])\n",
    "print(train_accuracy,test_accuracy)"
   ]
  },
  {
   "cell_type": "markdown",
   "metadata": {},
   "source": [
    "#### Performance measured on different values of k"
   ]
  },
  {
   "cell_type": "code",
   "execution_count": 36,
   "metadata": {},
   "outputs": [
    {
     "data": {
      "text/plain": [
       "[<matplotlib.lines.Line2D at 0x2bb0ed27518>]"
      ]
     },
     "execution_count": 36,
     "metadata": {},
     "output_type": "execute_result"
    },
    {
     "data": {
      "image/png": "[encoded data removed]",
      "text/plain": [
       "<Figure size 432x288 with 1 Axes>"
      ]
     },
     "metadata": {},
     "output_type": "display_data"
    }
   ],
   "source": [
    "train_accuracies = []\n",
    "test_accuracies = []\n",
    "k_vals = [i for i in range(1,100)]\n",
    "features = [\"norm_balance\",\"norm_income\"]\n",
    "target = [\"default\"]\n",
    "for k in k_vals:\n",
    "    model = KNeighborsClassifier(n_neighbors=k,metric='euclidean')\n",
    "    model.fit(default_train[features],default_train[target])\n",
    "    train_accuracy_k = model.score(default_train[features],default_train[target])\n",
    "    test_accuracy_k = model.score(default_test[features],default_test[target])\n",
    "    train_accuracies.append(train_accuracy_k)\n",
    "    test_accuracies.append(test_accuracy_k)\n",
    "plt.plot(k_vals,train_accuracies)\n",
    "plt.plot(k_vals,test_accuracies)"
   ]
  },
  {
   "cell_type": "code",
   "execution_count": null,
   "metadata": {},
   "outputs": [],
   "source": []
  }
 ],
 "metadata": {
  "kernelspec": {
   "display_name": "Python 3",
   "language": "python",
   "name": "python3"
  },
  "language_info": {
   "codemirror_mode": {
    "name": "ipython",
    "version": 3
   },
   "file_extension": ".py",
   "mimetype": "text/x-python",
   "name": "python",
   "nbconvert_exporter": "python",
   "pygments_lexer": "ipython3",
   "version": "3.6.8"
  }
 },
 "nbformat": 4,
 "nbformat_minor": 2
}
