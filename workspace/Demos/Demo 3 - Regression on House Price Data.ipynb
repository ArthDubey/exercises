{
 "cells": [
  {
   "cell_type": "code",
   "execution_count": null,
   "metadata": {},
   "outputs": [],
   "source": [
    "import numpy as np\n",
    "import pandas as pd\n",
    "import matplotlib.pyplot as plt\n",
    "%matplotlib inline\n",
    "import warnings\n",
    "warnings.filterwarnings('ignore')"
   ]
  },
  {
   "cell_type": "markdown",
   "metadata": {},
   "source": [
    "#### Importing data and basic exploration"
   ]
  },
  {
   "cell_type": "code",
   "execution_count": null,
   "metadata": {},
   "outputs": [],
   "source": [
    "house_data = pd.read_csv(\"data/kc_house_data.csv\",)"
   ]
  },
  {
   "cell_type": "code",
   "execution_count": null,
   "metadata": {
    "scrolled": true
   },
   "outputs": [],
   "source": [
    "#Determine the size of the data\n",
    "print(house_data.shape)\n",
    "\n",
    "#Determine the columns in the data\n",
    "print(house_data.columns)\n",
    "\n",
    "#View information about the data in each columns\n",
    "print(house_data.info())\n",
    "\n",
    "#Check if the data has any missing values (null)\n",
    "house_data.isna().sum()\n",
    "\n",
    "# Checkfor outliers using multiple boxplots\n",
    "for column in house_data:\n",
    "    if house_data[column].dtype in ['int64','float64']:\n",
    "        plt.figure()\n",
    "        house_data.boxplot(column=[column])\n",
    "\n",
    "# Although there are some outliers, we are not handling them in this exercise. "
   ]
  },
  {
   "cell_type": "markdown",
   "metadata": {},
   "source": [
    "#### Choose features to further work on\n",
    "In our case, let us pick price as the target; and date, bedrooms, bathrooms, sqft_living, floors, waterfront, view, condition, grade as features\n"
   ]
  },
  {
   "cell_type": "code",
   "execution_count": null,
   "metadata": {},
   "outputs": [],
   "source": [
    "house_data_df = house_data[[\"price\",\"date\", \"bedrooms\", \n",
    "                                  \"bathrooms\", \"sqft_living\", \"floors\", \n",
    "                                  \"waterfront\", \"view\", \"condition\", \"grade\"]]"
   ]
  },
  {
   "cell_type": "markdown",
   "metadata": {},
   "source": [
    "### Feature Engineering\n",
    "1. Lets split date into year and month to consider that price could depend on year and month of sale due to market conditions\n",
    "2. Lets treat bedrooms, bathrooms, floors, waterfront, view, condition, grade, year and month as categorical features. \n"
   ]
  },
  {
   "cell_type": "code",
   "execution_count": null,
   "metadata": {},
   "outputs": [],
   "source": [
    "# Extracting year and month from date\n",
    "house_data_df[\"year\"] = house_data[\"date\"].str[0:4]\n",
    "house_data_df[\"month\"] = house_data[\"date\"].str[4:6]\n",
    "\n",
    "#removing date after this extraction\n",
    "house_data_df = house_data_df.drop(columns=[\"date\"])\n",
    "\n",
    "# Treating features as categorical\n",
    "cat_features = [\"bedrooms\", \"bathrooms\", \"floors\", \"waterfront\", \n",
    "                \"view\", \"condition\", \"grade\", \"year\", \"month\"]\n",
    "house_data_encoded = pd.get_dummies(house_data_df,columns=cat_features)\n",
    "print(house_data_encoded.columns)"
   ]
  },
  {
   "cell_type": "markdown",
   "metadata": {},
   "source": [
    "#### Splitting the data into train and test"
   ]
  },
  {
   "cell_type": "code",
   "execution_count": null,
   "metadata": {},
   "outputs": [],
   "source": [
    "from sklearn.model_selection import train_test_split"
   ]
  },
  {
   "cell_type": "code",
   "execution_count": null,
   "metadata": {},
   "outputs": [],
   "source": [
    "house_train,house_test = train_test_split(house_data_encoded,test_size=0.2)"
   ]
  },
  {
   "cell_type": "code",
   "execution_count": null,
   "metadata": {},
   "outputs": [],
   "source": [
    "house_train.shape , house_test.shape"
   ]
  },
  {
   "cell_type": "markdown",
   "metadata": {},
   "source": [
    "#### Building a model on the train data and checking how well the model fits"
   ]
  },
  {
   "cell_type": "code",
   "execution_count": null,
   "metadata": {},
   "outputs": [],
   "source": [
    "from sklearn.linear_model import LinearRegression"
   ]
  },
  {
   "cell_type": "code",
   "execution_count": null,
   "metadata": {},
   "outputs": [],
   "source": [
    "features = house_data_encoded.columns.drop(\"price\")"
   ]
  },
  {
   "cell_type": "code",
   "execution_count": null,
   "metadata": {},
   "outputs": [],
   "source": [
    "target = [\"price\"]"
   ]
  },
  {
   "cell_type": "code",
   "execution_count": null,
   "metadata": {},
   "outputs": [],
   "source": [
    "model = LinearRegression()\n",
    "model.fit(house_train[features],house_train[target])\n",
    "model.score(house_train[features],house_train[target])"
   ]
  },
  {
   "cell_type": "code",
   "execution_count": null,
   "metadata": {},
   "outputs": [],
   "source": [
    "from sklearn.metrics import mean_squared_error"
   ]
  },
  {
   "cell_type": "code",
   "execution_count": null,
   "metadata": {},
   "outputs": [],
   "source": [
    "train_predictions = model.predict(house_train[features])\n",
    "mean_squared_error(house_train[target],train_predictions)**0.5"
   ]
  },
  {
   "cell_type": "markdown",
   "metadata": {},
   "source": [
    "#### Evaluate the model's performance on test data"
   ]
  },
  {
   "cell_type": "code",
   "execution_count": null,
   "metadata": {},
   "outputs": [],
   "source": [
    "test_predictions = model.predict(house_test[features])"
   ]
  },
  {
   "cell_type": "code",
   "execution_count": null,
   "metadata": {},
   "outputs": [],
   "source": [
    "mean_squared_error(house_test[target],test_predictions)**0.5"
   ]
  }
 ],
 "metadata": {
  "kernelspec": {
   "display_name": "Python 3",
   "language": "python",
   "name": "python3"
  },
  "language_info": {
   "codemirror_mode": {
    "name": "ipython",
    "version": 3
   },
   "file_extension": ".py",
   "mimetype": "text/x-python",
   "name": "python",
   "nbconvert_exporter": "python",
   "pygments_lexer": "ipython3",
   "version": "3.6.8"
  }
 },
 "nbformat": 4,
 "nbformat_minor": 2
}
