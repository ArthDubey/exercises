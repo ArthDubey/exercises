{
 "cells": [
  {
   "cell_type": "markdown",
   "metadata": {},
   "source": [
    "### Capstone Project: HR Analytics"
   ]
  },
  {
   "cell_type": "markdown",
   "metadata": {},
   "source": [
    "Whenever an employee leaves an organization, she takes away experience, skill, knowledge that she gathered over the period within the organization. This affects the organization and the impact is not only restricted to that but also brings with it the task of finding a suitable replacement. Most of the times the suitable replacement is hired from outside the organization. Hiring an employee is again a time and money consuming process.\n",
    "\t\t\t<br/> The HR department of a multinational company would like to understand the reasons for premature exit of experienced employees using Artificial Intelligence and Machine Learning techniques. For achieving this they must:\n",
    "            <ol>\n",
    "                <li>Explore the dataset and check if the data can be used as-is?</li>\n",
    "                <li>Determine the relationship between satisfaction level and working hours on the exit of employees.</li>\n",
    "\t\t\t\t<li>Effect of satisfaction level, department, promotion in last 5 years and salary level on exit of employees using logistic regression.</li>\n",
    "\t\t\t\t<li>Compare the previous model with the Maximum margin classifier for studying the effect of satisfaction level, recent performance of the employee, working hours on exit of employees.</li>\n",
    "\t\t\t\t<li>Build a simple Artificial Neural Network model to predict the exit of employees</li>\n",
    "            </ol>\n",
    "The dataset has roughly 15000 records with 10 columns which are self-explanatory, namely: satisfaction_level, last_evaluation, number_project, average_monthly_hours, time_spend_company, Work_accident, left, promotion_last_5years, Department, salary.\n",
    "<br/> <b>HR Analytics.csv</b> file is available in <b>capstone project/data</b> folder."
   ]
  },
  {
   "cell_type": "code",
   "execution_count": null,
   "metadata": {},
   "outputs": [],
   "source": [
    "# Write your code here"
   ]
  }
 ],
 "metadata": {
  "kernelspec": {
   "display_name": "Python 3",
   "language": "python",
   "name": "python3"
  },
  "language_info": {
   "codemirror_mode": {
    "name": "ipython",
    "version": 3
   },
   "file_extension": ".py",
   "mimetype": "text/x-python",
   "name": "python",
   "nbconvert_exporter": "python",
   "pygments_lexer": "ipython3",
   "version": "3.6.8"
  }
 },
 "nbformat": 4,
 "nbformat_minor": 2
}
