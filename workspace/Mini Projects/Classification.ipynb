{
 "cells": [
  {
   "cell_type": "markdown",
   "metadata": {},
   "source": [
    "<b>Exercise 2: Classification</b><br>\n",
    "<br>\n",
    "All the packages required for this problem statement are given below. Run the cell to import them in the environment.<br>\n",
    "Do not try to modify the structure."
   ]
  },
  {
   "cell_type": "code",
   "execution_count": null,
   "metadata": {},
   "outputs": [],
   "source": [
    "import numpy as np\n",
    "import scipy as sp\n",
    "import pandas as pd\n",
    "import math\n",
    "import matplotlib.pyplot as plt\n",
    "%matplotlib inline\n",
    "import seaborn as sns\n",
    "sns.set(style = \"whitegrid\")\n",
    "from scipy import stats\n",
    "from scipy.stats import norm\n",
    "from scipy.stats import gaussian_kde\n",
    "from scipy.stats import chi2\n",
    "from scipy.stats import t\n",
    "import sklearn\n",
    "import warnings"
   ]
  },
  {
   "cell_type": "code",
   "execution_count": null,
   "metadata": {},
   "outputs": [],
   "source": [
    "cfilePath=\"data/spambase_all.csv\"\n",
    "outputFilePath=\"output.csv\""
   ]
  },
  {
   "cell_type": "markdown",
   "metadata": {},
   "source": [
    "Q1. Write the code to load this data into the spambase_df data frame in the loadData(cfilePath) method"
   ]
  },
  {
   "cell_type": "code",
   "execution_count": null,
   "metadata": {},
   "outputs": [],
   "source": [
    "def loadPath(cfilePath):\n",
    "    #remove pass and write your code\n",
    "    pass\n",
    "spambase_df=loadPath(cfilePath)"
   ]
  },
  {
   "cell_type": "markdown",
   "metadata": {},
   "source": [
    "Q2. In the understandData(spambase_df) method, return the ratio of Spam to non_Spam mails in the method"
   ]
  },
  {
   "cell_type": "code",
   "execution_count": null,
   "metadata": {},
   "outputs": [],
   "source": [
    "def understandData(spambase_df):\n",
    "    #remove pass and write your code\n",
    "    pass\n",
    "ratio=understandData(spambase_df)"
   ]
  },
  {
   "cell_type": "markdown",
   "metadata": {},
   "source": [
    "Q3. In the splitData(spambase_df) method, write the code to split the data into train and test datasets in the ratio of 70:30. Return both train and test datasets as the output of this method. Use seed value as 42"
   ]
  },
  {
   "cell_type": "code",
   "execution_count": null,
   "metadata": {},
   "outputs": [],
   "source": [
    "def splitData(spambase_df):\n",
    "    #remove pass and write your code\n",
    "    pass\n",
    "train_data,test_data=splitData(spambase_df)"
   ]
  },
  {
   "cell_type": "markdown",
   "metadata": {},
   "source": [
    "Q4. In the trainLogisticRegr(train_data) method, build a logistic regression model to predict Spam/non-Spam using the LogisticRegression() method. Threshold value of predicted probability p = 0.75. Return the model built\n",
    "(Hint: use predict_proba() function)"
   ]
  },
  {
   "cell_type": "code",
   "execution_count": null,
   "metadata": {},
   "outputs": [],
   "source": [
    "def trainLogisticRegr(train_data):\n",
    "    #remove pass and write your code\n",
    "    pass\n",
    "modelLR=trainLogisticRegr(train_data)"
   ]
  },
  {
   "cell_type": "markdown",
   "metadata": {},
   "source": [
    "Q5. In the trainDecisionTree(train_data) method, build a decision tree model to predict Spam/non-Spam using the DecisionTreeClassifier() method of sklearn.tree package. Return the model built"
   ]
  },
  {
   "cell_type": "code",
   "execution_count": null,
   "metadata": {},
   "outputs": [],
   "source": [
    "def trainDecisionTree(train_data):\n",
    "    #remove pass and write your code\n",
    "    pass\n",
    "modelDT=trainDecisionTree(train_data)"
   ]
  },
  {
   "cell_type": "markdown",
   "metadata": {},
   "source": [
    "Q6. In the trainSVM(train_data) method, build a SVM model to predict Spam/non-Spam using the SVC() method of sklearn.svm package"
   ]
  },
  {
   "cell_type": "code",
   "execution_count": null,
   "metadata": {},
   "outputs": [],
   "source": [
    "def trainSVM(train_data):\n",
    "    #remove pass and write your code\n",
    "    pass\n",
    "modelSVM=trainSVM(train_data)"
   ]
  },
  {
   "cell_type": "markdown",
   "metadata": {},
   "source": [
    "Q7. In the trainRandomForest(train_data) method, build a RandomForest model to predict Spam/non-Spam using the RandomForestClassifier() method of sklearn.ensemble package. Set the value of n_estimators as 100"
   ]
  },
  {
   "cell_type": "code",
   "execution_count": null,
   "metadata": {},
   "outputs": [],
   "source": [
    "def trainRandomForest(train_data):\n",
    "    #remove pass and write your code\n",
    "    pass\n",
    "modelRF=trainRandomForest(train_data)"
   ]
  },
  {
   "cell_type": "markdown",
   "metadata": {},
   "source": [
    "Q8. In the evaluateTrainPerformance(models, train_data) select the model that has the highest value for the WeightedScore on the train data. Return the model and its WeightedScore value on the train data"
   ]
  },
  {
   "cell_type": "code",
   "execution_count": null,
   "metadata": {},
   "outputs": [],
   "source": [
    "def evaluateTrainPerformance(models, train_data):\n",
    "    #remove pass and write your code\n",
    "    pass\n",
    "best_train_model=evaluateTrainPerformance([modelLR,modelDT,modelSVM,modelRF], train_data)"
   ]
  },
  {
   "cell_type": "markdown",
   "metadata": {},
   "source": [
    "Q9. In the predictOnTestData(best_train_model,test_data, outputFilePath) use the best_train_model to make predictions on the test_data. Write the outputs to a CSV file"
   ]
  },
  {
   "cell_type": "code",
   "execution_count": null,
   "metadata": {},
   "outputs": [],
   "source": [
    "def predictOnTestData(best_train_model,test_data, outputFilePath):\n",
    "    #remove pass and write your code\n",
    "    pass\n",
    "pred=predictOnTestData(best_train_model,test_data, outputFilePath)"
   ]
  },
  {
   "cell_type": "markdown",
   "metadata": {},
   "source": [
    "Q10. In the evaluateTestPerformance(best_train_model, test_data) return the WeightedScore of the model on the test data"
   ]
  },
  {
   "cell_type": "code",
   "execution_count": null,
   "metadata": {},
   "outputs": [],
   "source": [
    "def evaluateTestPerformance(best_train_model, test_data):\n",
    "    #remove pass and write your code\n",
    "    pass\n",
    "weightedScore=evaluateTestPerformance(best_train_model, test_data)"
   ]
  }
 ],
 "metadata": {
  "kernelspec": {
   "display_name": "Python 3",
   "language": "python",
   "name": "python3"
  },
  "language_info": {
   "codemirror_mode": {
    "name": "ipython",
    "version": 3
   },
   "file_extension": ".py",
   "mimetype": "text/x-python",
   "name": "python",
   "nbconvert_exporter": "python",
   "pygments_lexer": "ipython3",
   "version": "3.6.8"
  }
 },
 "nbformat": 4,
 "nbformat_minor": 2
}
