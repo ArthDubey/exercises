{
 "cells": [
  {
   "cell_type": "markdown",
   "metadata": {},
   "source": [
    "<b>Exercise 1: Regression</b><br>\n",
    "<br>\n",
    "All the packages required for this problem statement are given below. Run the cell to import them in the environment.<br>\n",
    "Do not try to modify the structure."
   ]
  },
  {
   "cell_type": "code",
   "execution_count": null,
   "metadata": {},
   "outputs": [],
   "source": [
    "import numpy as np\n",
    "import scipy as sp\n",
    "import pandas as pd\n",
    "import math\n",
    "import matplotlib.pyplot as plt\n",
    "%matplotlib inline\n",
    "import seaborn as sns\n",
    "sns.set(style = \"whitegrid\")\n",
    "from scipy import stats\n",
    "from scipy.stats import norm\n",
    "from scipy.stats import gaussian_kde\n",
    "from scipy.stats import chi2\n",
    "from scipy.stats import t\n",
    "import sklearn\n",
    "import warnings"
   ]
  },
  {
   "cell_type": "code",
   "execution_count": null,
   "metadata": {},
   "outputs": [],
   "source": [
    "rfilePath=\"data/bikesharedata.csv\""
   ]
  },
  {
   "cell_type": "markdown",
   "metadata": {},
   "source": [
    "Q1. Write the code to load this data into the bikedata_df data frame in the loadData(rfilePath) method"
   ]
  },
  {
   "cell_type": "code",
   "execution_count": null,
   "metadata": {},
   "outputs": [],
   "source": [
    "def loadData(rfilePath):\n",
    "    #remove pass and write your code\n",
    "    pass\n",
    "bikedata_df=loadData(rfilePath)"
   ]
  },
  {
   "cell_type": "markdown",
   "metadata": {},
   "source": [
    "Q2. In the processData(bikedata_df) do the following operations:<br>\n",
    "<ul>   \n",
    "    <li>Treat season, holiday, weekday and weathersit variables as categorical variables and perform one hot encoding</li><br>\n",
    "   \n",
    "<li>Detect outliers in the “users” column and handle them. You can replace the outlier value with the value as (1.5*IQR + Q3)</li><br>\n",
    "   \n",
    "<li>Return the processed data frame as bikedata_df.</li></ul>"
   ]
  },
  {
   "cell_type": "code",
   "execution_count": null,
   "metadata": {},
   "outputs": [],
   "source": [
    "def processData(bikedata_df):\n",
    "    #remove pass and write your code\n",
    "    pass\n",
    "bikedata_df=processData(bikedata_df)"
   ]
  },
  {
   "cell_type": "markdown",
   "metadata": {},
   "source": [
    "Q3. In the splitData(bikedata_df) method, write the code to split the data into train and test datasets. Return both train and test datasets as the output of this method. Consider 80% of the data as train data. Use seed value as 42"
   ]
  },
  {
   "cell_type": "code",
   "execution_count": null,
   "metadata": {},
   "outputs": [],
   "source": [
    "def splitData(bikedata_df):\n",
    "    #remove pass and write your code\n",
    "    pass\n",
    "train_data,test_data=splitData(bikedata_df)"
   ]
  },
  {
   "cell_type": "markdown",
   "metadata": {},
   "source": [
    "Q4. In the buildModels(train_data) method, return a list containing following models:<br>\n",
    "<ul>   \n",
    "<li>Model that predicts users based on the most correlated numeric value</li><br>\n",
    "   \n",
    "<li>Model that predicts users based on all the categorical variables.</li><br>\n",
    "   \n",
    "<li>Model that predicts users based on all the independent variables</li></ul>"
   ]
  },
  {
   "cell_type": "code",
   "execution_count": null,
   "metadata": {},
   "outputs": [],
   "source": [
    "def buildModels(train_data):\n",
    "    #remove pass and write your code\n",
    "    pass\n",
    "models=buildModels(train_data)"
   ]
  },
  {
   "cell_type": "markdown",
   "metadata": {},
   "source": [
    "Q5. In the getBestTrainingModel(models, train_data) determine the model that has the best RMSE on the train data. Return the model and its RMSE value on the train data"
   ]
  },
  {
   "cell_type": "code",
   "execution_count": null,
   "metadata": {},
   "outputs": [],
   "source": [
    "def getBestTrainingModel(models, train_data):\n",
    "    #remove pass and write your code\n",
    "    pass\n",
    "best_train_model=getBestTrainingModel(models, train_data)"
   ]
  },
  {
   "cell_type": "markdown",
   "metadata": {},
   "source": [
    "Q6. In the predictOnTestData(best_train_model, test_data) use the best_train_model to make predictions on the test_data. Store the predicted values in the “predicted_val” column of the test_data data frame. Return the updated test_data data frame"
   ]
  },
  {
   "cell_type": "code",
   "execution_count": null,
   "metadata": {},
   "outputs": [],
   "source": [
    "def predictOnTestData(best_train_model, test_data):\n",
    "    #remove pass and write your code\n",
    "    pass\n",
    "predict=predictOnTestData(best_train_model, test_data)"
   ]
  },
  {
   "cell_type": "markdown",
   "metadata": {},
   "source": [
    "Q7. In the evaluateTestPerformance(best_train_model, test_data) return the Mean Absolute Error of the model on the test data"
   ]
  },
  {
   "cell_type": "code",
   "execution_count": null,
   "metadata": {},
   "outputs": [],
   "source": [
    "def evaluateTestPerformance(best_train_model, test_data):\n",
    "    #remove pass and write your code\n",
    "    pass\n",
    "mae=evaluateTestPerformance(best_train_model, test_data)"
   ]
  }
 ],
 "metadata": {
  "kernelspec": {
   "display_name": "Python 3",
   "language": "python",
   "name": "python3"
  },
  "language_info": {
   "codemirror_mode": {
    "name": "ipython",
    "version": 3
   },
   "file_extension": ".py",
   "mimetype": "text/x-python",
   "name": "python",
   "nbconvert_exporter": "python",
   "pygments_lexer": "ipython3",
   "version": "3.6.8"
  }
 },
 "nbformat": 4,
 "nbformat_minor": 2
}
